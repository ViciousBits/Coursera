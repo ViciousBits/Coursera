## This is Hello world! 
[my code](https://github.com/ViciousBits/Coursera/blob/4564b3224978d27d7fa186909bb164ab4c781681/helloworld.ipynb)
